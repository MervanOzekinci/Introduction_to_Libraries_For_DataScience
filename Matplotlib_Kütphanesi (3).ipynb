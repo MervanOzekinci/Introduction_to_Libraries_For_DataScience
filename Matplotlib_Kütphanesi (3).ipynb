{
  "nbformat": 4,
  "nbformat_minor": 0,
  "metadata": {
    "colab": {
      "name": "Matplotlib Kütphanesi.ipynb",
      "provenance": [],
      "collapsed_sections": []
    },
    "kernelspec": {
      "name": "python3",
      "display_name": "Python 3"
    },
    "language_info": {
      "name": "python"
    }
  },
  "cells": [
    {
      "cell_type": "code",
      "execution_count": null,
      "metadata": {
        "id": "f5wkaidbThbU",
        "colab": {
          "base_uri": "https://localhost:8080/",
          "height": 90
        },
        "outputId": "1de0856a-34d0-4b8b-deb3-fd57f0c6e91b"
      },
      "outputs": [
        {
          "output_type": "execute_result",
          "data": {
            "text/plain": [
              "\"\\nBu\\xa0yazımızda\\xa0Veri\\xa0görselleştirme\\xa0için\\xa0matplolib\\xa0kütüphanesini\\xa0inceleyecegiz.\\xa0Ama\\xa0öncesinde\\xa0akillara\\xa0su\\xa0soru\\xa0gelebilir:'Neden\\xa0buna\\xa0ihtiyac\\xa0duyariz?'\\nBunun\\xa0cevabını\\xa0söyle\\xa0vermek\\xa0gerekir.Bizler\\xa0genellikle\\xa0elimizde\\xa0bulunan\\xa0Dataset(veri)lere\\xa0bakınca\\xa0hemen\\xa0gözümüzde\\xa0bir şeyler\\xa0canlanmayabiliyor\\xa0\\nya\\xa0da\\xa0bununcanlandirmak\\xa0cogu\\xa0zaman\\xa0zor\\xa0olabiliyor.\\xa0Bunun\\xa0icin\\xa0karmasik\\xa0ve\\xa0daginik\\xa0olan\\xa0bu\\xa0verileri\\xa0görselleştirerek\\xa0soyut\\xa0olan\\xa0değerleri\\xa0anlasilir\\nve\\xa0somut\\xa0hale\\xa0getirebiliriz.Bu kütüphane ile 2 ve 3 Boyutlu cizimler yapmamiz mümkün ama genellikle 2 Boyutlu cizimlerde kullaniriz\\nBunun\\xa0iccinde\\xa0bize\\xa0Matplotlib\\xa0kütüphanesini\\xa0simdi\\xa0taniyalim.\\n\""
            ],
            "application/vnd.google.colaboratory.intrinsic+json": {
              "type": "string"
            }
          },
          "metadata": {},
          "execution_count": 2
        }
      ],
      "source": [
        "#Veri Görsellestirme\n",
        "\n",
        "\"\"\"\n",
        "Bu yazımızda Veri görselleştirme için matplolib kütüphanesini inceleyecegiz. Ama öncesinde akillara su soru gelebilir:'Neden buna ihtiyac duyariz?'\n",
        "Bunun cevabını söyle vermek gerekir.Bizler genellikle elimizde bulunan Dataset(veri)lere bakınca hemen gözümüzde bir şeyler canlanmayabiliyor \n",
        "ya da bununcanlandirmak cogu zaman zor olabiliyor. Bunun icin karmasik ve daginik olan bu verileri görselleştirerek soyut olan değerleri anlasilir\n",
        "ve somut hale getirebiliriz.Bu kütüphane ile 2 ve 3 Boyutlu cizimler yapmamiz mümkün ama genellikle 2 Boyutlu cizimlerde kullaniriz\n",
        "Bunun iccinde bize Matplotlib kütüphanesini simdi taniyalim.\n",
        "\"\"\"\n"
      ]
    },
    {
      "cell_type": "code",
      "source": [
        "#Veri görsellestirmek icin matplotlib kütüphanesini dahil edelim\n",
        "#normalde bu kütüphaneyi her kullandigimizda uzun uzun -matplotlib.pyplot- böyle yazmaktansa artik buna bir plt ismi taktim.\n",
        "#Artik her plt dedigimde makine \"matplotlib.pyplot\" cagirdigimi anlayacak \n",
        "\n",
        "import matplotlib.pyplot as plt"
      ],
      "metadata": {
        "id": "5lELW53oWV_v"
      },
      "execution_count": null,
      "outputs": []
    },
    {
      "cell_type": "code",
      "source": [
        "#X-ekseni degerleri\n",
        "x=[5,10,15,20,30,40,60,80,100]\n",
        "\n",
        "#y-ekseni\n",
        "y=[1,2,3,4,5,6,7,8,9]\n"
      ],
      "metadata": {
        "id": "nhXAnW4pWWKo"
      },
      "execution_count": null,
      "outputs": []
    },
    {
      "cell_type": "code",
      "source": [
        "#Simdi bu degerleri cizdirelim\n",
        "\n",
        "plt.plot(x,y)#plot ile grafigi cizeriz. Ilk olarak x ve sonra y eksen degerlerinin verildigine dikkat edelim.Bu siralama önemli!\n",
        "plt.title(\"Grafigin Basligi\")#Grafigin basligi\n",
        "plt.xlabel(\"X-Ekseni\")#X-ekseninin basligi\n",
        "plt.ylabel(\"Y-ekseni\")#Y-ekseninin basligi\n",
        "plt.show()#Grafigi göster.Bunu yazmadigimiz bazi durumlarda grafik arka planda cizilir fakat gösterilmez\n"
      ],
      "metadata": {
        "colab": {
          "base_uri": "https://localhost:8080/",
          "height": 295
        },
        "id": "QzZN6IEUWWPn",
        "outputId": "74e7c9e1-9975-4db6-8e43-53ca96438098"
      },
      "execution_count": null,
      "outputs": [
        {
          "output_type": "display_data",
          "data": {
            "text/plain": [
              "<Figure size 432x288 with 1 Axes>"
            ],
            "image/png": "[encoded data removed]"
          },
          "metadata": {
            "needs_background": "light"
          }
        }
      ]
    },
    {
      "cell_type": "code",
      "source": [
        "#Bazi arkadaslarin bunu noktasal olarak göstermek istediklerini hisseder gibi oldum ki, bunun icinde bir methodumuz var -scatter \n",
        "\n",
        "plt.scatter(x,y,s=100,color='red')#Yine plottaki gibi önce x ve sonra y degerlerini veriyoruz. Ve grafik üzerindeki noktalarin büyüklügünü \n",
        "                                  #s=size ile gösteriyoruz. Burada s=100 sectim. Noktalarin rengi de c=\"red\" yani kirmizi yaptim. Cok kolay degil mi:)\n",
        "plt.title(\"Grafigin Basligi\")#Grafigin basligi\n",
        "plt.xlabel(\"X-Ekseni\")#X-ekseninin basligi\n",
        "plt.ylabel(\"Y-ekseni\")#Y-ekseninin basligi\n",
        "plt.grid(True)#Izgaralar göstrilsin mi ? True:Evet, default deger ise False yani gösterilmez\n",
        "plt.show()#Grafigi göster.Bunu yazmadigimiz bazi durumlarda grafik arka planda cizilir fakat gösterilmez\n"
      ],
      "metadata": {
        "colab": {
          "base_uri": "https://localhost:8080/",
          "height": 295
        },
        "id": "jPLGnCCCWWT4",
        "outputId": "895f4d00-6500-47dd-e1b8-dadb8d3ef0fd"
      },
      "execution_count": null,
      "outputs": [
        {
          "output_type": "display_data",
          "data": {
            "text/plain": [
              "<Figure size 432x288 with 1 Axes>"
            ],
            "image/png": "[encoded data removed]"
          },
          "metadata": {
            "needs_background": "light"
          }
        }
      ]
    },
    {
      "cell_type": "code",
      "source": [
        "#Simdi okuyuculardan bazilari da hocam hayirdir biz ne scatter ne de plot istiyoruz ille de -bar grafigi isteriz \n",
        "#diyenleri unutmadim ve onlar icin de bir bar grafigi cizelim\n",
        "plt.bar(x,y)#plot ile grafigi cizeriz. Ilk olarak x ve sonra y eksen degerlerinin verildigine dikkat edelim.Bu siralama önemli!\n",
        "plt.title(\"Grafigin Basligi\")#Grafigin basligi\n",
        "plt.xlabel(\"X-Ekseni\")#X-ekseninin basligi\n",
        "plt.ylabel(\"Y-ekseni\")#Y-ekseninin basligi\n",
        "plt.show()#Grafigi göster.Bunu yazmadigimiz bazi durumlarda grafik arka planda cizilir fakat gösterilmez\n",
        "\n",
        "#gördügünüz gibi sadece bir yerde plt.plot>plt.scatter>plt.bar degisiklik oluyor :)"
      ],
      "metadata": {
        "colab": {
          "base_uri": "https://localhost:8080/",
          "height": 283
        },
        "id": "JdlIyR_5WWYw",
        "outputId": "2adb49f4-ba19-413e-c4ea-b7ade4b6a21f"
      },
      "execution_count": null,
      "outputs": [
        {
          "output_type": "execute_result",
          "data": {
            "text/plain": [
              "<BarContainer object of 9 artists>"
            ]
          },
          "metadata": {},
          "execution_count": 7
        },
        {
          "output_type": "display_data",
          "data": {
            "text/plain": [
              "<Figure size 432x288 with 1 Axes>"
            ],
            "image/png": "[encoded data removed]"
          },
          "metadata": {
            "needs_background": "light"
          }
        }
      ]
    },
    {
      "cell_type": "code",
      "source": [
        "\"\"\"\n",
        "\n",
        "\n",
        "Yazimizin hayal gücü yüksek okuyucularini da unutmadik. Ahh ulan su 3 grafigi yan yana cizebilsek ne güzel olurdu diyenleri de duyar gibiyim\n",
        "o zaman hadi gelin onu da yapalim. Fakat burada sunu unutmamaliyiz ki grafikleri nasil gösterecegiz?\n",
        "Biz simdilik \"tek satirda göstermeyi deneyecegiz\" zira burasi önemli. Peki tek satirda gösterince\n",
        "hangi grafik 1.,2. ve 3. olarak gösterilsin diye de kendimize\n",
        "sormak lazim.Bunun icin subplot() ile siralamasini yapacagiz\n",
        "misal: plt.subplot(xyz)> x=satir \n",
        "                         y=sutun \n",
        "                         z=kacinci  \n",
        "\n",
        "\n",
        "\"\"\"\n",
        "\n",
        "\n",
        "\n",
        "plt.subplot(131)#Buarada diyoruz ki 1 satir 3 sütundan olusan 1.grafik plot olsun \n",
        "plt.plot(x,y)\n",
        "plt.xlabel(\"X-Ekseni\")#X-ekseninin basligi\n",
        "plt.ylabel(\"Y-ekseni\")#Y-ekseninin basligi\n",
        "\n",
        "plt.subplot(132)#Buarada diyoruz ki 1 satir 3 sütundan olusan 2.grafik scatter olsun \n",
        "plt.scatter(x,y)\n",
        "plt.xlabel(\"X-Ekseni\")#X-ekseninin basligi\n",
        "plt.ylabel(\"Y-ekseni\")#Y-ekseninin basligi\n",
        "\n",
        "plt.subplot(133)#Buarada diyoruz ki 1 satir 3 sütundan olusan 3.grafik bar olsun \n",
        "plt.bar(x,y)\n",
        "plt.xlabel(\"X-Ekseni\")#X-ekseninin basligi\n",
        "plt.ylabel(\"Y-ekseni\")#Y-ekseninin basligi\n",
        "\n",
        "plt.suptitle(\"Bütün Grafiklerin Ortak Basligi\")#Bu da bütün grafiklerin ortak basligi\n"
      ],
      "metadata": {
        "colab": {
          "base_uri": "https://localhost:8080/",
          "height": 326
        },
        "id": "qROjW9XNWWdi",
        "outputId": "6a411a6e-dde8-4d38-8695-8ffc3d3f2e35"
      },
      "execution_count": null,
      "outputs": [
        {
          "output_type": "execute_result",
          "data": {
            "text/plain": [
              "Text(0.5, 0.98, 'Bütün Grafiklerin Ortak Basligi')"
            ]
          },
          "metadata": {},
          "execution_count": 8
        },
        {
          "output_type": "display_data",
          "data": {
            "text/plain": [
              "<Figure size 432x288 with 3 Axes>"
            ],
            "image/png": "[encoded data removed]"
          },
          "metadata": {
            "needs_background": "light"
          }
        }
      ]
    },
    {
      "cell_type": "code",
      "source": [
        "#Gördügünüz gibi burada olabildigince en basit sekliyle anlatmaya calsitik. Umarim zorlanmadan anlamissinizdir. \n",
        "#Detayli bilgi icin https://matplotlib.org/ bu adrese gidip inceleyebilirsiniz ya da yorum kisminda bizlere bildirebilirsiniz. \n",
        "#Okudugunuz icin tesekkür ederim :)\n",
        "\n"
      ],
      "metadata": {
        "id": "cnpOPeYFWWiJ"
      },
      "execution_count": null,
      "outputs": []
    }
  ]
}